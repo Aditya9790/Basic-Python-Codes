{
  "nbformat": 4,
  "nbformat_minor": 0,
  "metadata": {
    "colab": {
      "name": "Algorithms.ipynb",
      "provenance": [],
      "collapsed_sections": [],
      "authorship_tag": "ABX9TyMqlVZ+g8XfN5LUFxaYZfhH"
    },
    "kernelspec": {
      "name": "python3",
      "display_name": "Python 3"
    },
    "language_info": {
      "name": "python"
    }
  },
  "cells": [
    {
      "cell_type": "markdown",
      "source": [
        "## Week 1"
      ],
      "metadata": {
        "id": "pm_KITAVUD5k"
      }
    },
    {
      "cell_type": "markdown",
      "source": [
        "Q 1) Check number is Goldbach or not."
      ],
      "metadata": {
        "id": "nJDBU0s3Vf0c"
      }
    },
    {
      "cell_type": "code",
      "source": [
        "def check_prime(n):\n",
        "    (result, i) = (True, 2)\n",
        "    while(result and (i<n)):\n",
        "        if (n%i) == 0:\n",
        "            result = False\n",
        "        i += 1\n",
        "    return result\n",
        "\n",
        "def goldbach(n):\n",
        "    gold = {}\n",
        "    for i in range(2, int((n+1)/2)+1):\n",
        "        if(check_prime(i) and check_prime(n-i)):\n",
        "            gold[i] = n-i\n",
        "    return [(k, gold[k]) for k in gold.keys()]\n",
        "\n",
        "goldbach(16)"
      ],
      "metadata": {
        "id": "lxCwvWiwXkON"
      },
      "execution_count": null,
      "outputs": []
    },
    {
      "cell_type": "markdown",
      "source": [
        "Q 2) Find type of odd element"
      ],
      "metadata": {
        "id": "5jzLTbARY5tb"
      }
    },
    {
      "cell_type": "code",
      "source": [
        "def odd_one(L):\n",
        "    count = dict()\n",
        "    for i in L:\n",
        "        if type(i) in count:\n",
        "            count[type(i)] += 1\n",
        "        else:\n",
        "            count[type(i)] = 1\n",
        "    return [j for j in count.keys() if count[j] == 1][0]\n",
        "\n",
        "L = [1,2,3.4, 4, 5]\n",
        "odd_one(L)\n"
      ],
      "metadata": {
        "colab": {
          "base_uri": "https://localhost:8080/"
        },
        "id": "oBG1g57fY6ed",
        "outputId": "2dee856a-7db7-4795-e25b-15356d7e51bb"
      },
      "execution_count": null,
      "outputs": [
        {
          "output_type": "execute_result",
          "data": {
            "text/plain": [
              "float"
            ]
          },
          "metadata": {},
          "execution_count": 15
        }
      ]
    },
    {
      "cell_type": "code",
      "source": [
        ""
      ],
      "metadata": {
        "id": "W9NLszZnZrzO"
      },
      "execution_count": null,
      "outputs": []
    },
    {
      "cell_type": "code",
      "source": [
        ""
      ],
      "metadata": {
        "id": "XYdv-AH4Z63g"
      },
      "execution_count": null,
      "outputs": []
    },
    {
      "cell_type": "markdown",
      "source": [
        "## Time Complexity\n",
        "\n",
        "1. Tower of hanoi :<br>\n",
        "![image.png](https://drive.google.com/uc?export=view&id=1uWnvGQ9O8kzTjxXKJg7xFw9JxlFWVV5l)\n"
      ],
      "metadata": {
        "id": "DOwYeRY7cyMf"
      }
    },
    {
      "cell_type": "markdown",
      "source": [
        "## Linear Search\n",
        "\n",
        "Time compexity : O(n)"
      ],
      "metadata": {
        "id": "fceV-eb1vWq2"
      }
    },
    {
      "cell_type": "code",
      "source": [
        "def LinearSearch(l, elem_to_find):\n",
        "    for i in l:\n",
        "        if(i == elem_to_find):\n",
        "            return True\n",
        "    return False\n",
        "l = [10, 20, 30, 40]\n",
        "elem_to_find = 90\n",
        "print(LinearSearch(l, elem_to_find))"
      ],
      "metadata": {
        "id": "Er3P9Hl1c05G",
        "colab": {
          "base_uri": "https://localhost:8080/"
        },
        "outputId": "546edfc9-ff4e-4145-e451-242e970359b7"
      },
      "execution_count": 6,
      "outputs": [
        {
          "output_type": "stream",
          "name": "stdout",
          "text": [
            "False\n"
          ]
        }
      ]
    },
    {
      "cell_type": "markdown",
      "source": [
        "## Binary search\n",
        "\n",
        "Time Complexity : $log_2(n)$<br>\n",
        "The input list must be sorted in ascending order.<br>\n",
        "![image.png](https://drive.google.com/uc?export=view&id=1IByFraEjDmNi3gtC9dgmEwcEfWuSiU7U)"
      ],
      "metadata": {
        "id": "t3rAQJFewRmJ"
      }
    },
    {
      "cell_type": "code",
      "source": [
        "def binary_search(l, elem_to_find):\n",
        "    if l == []: # if list is empty\n",
        "        return False\n",
        "\n",
        "    m = len(l)//2\n",
        "\n",
        "    if(elem_to_find == l[m]): # if element to find is middle element itself\n",
        "        return True\n",
        "    if(elem_to_find < l[m]): # if elem_to_find < mid\n",
        "        return binary_search(l[:m], elem_to_find)\n",
        "    else:# if elem_to_find > mid\n",
        "        return binary_search(l[m+1:], elem_to_find)\n",
        "    \n",
        "l = [10, 20, 30, 40]\n",
        "elem_to_find = 30\n",
        "print(binary_search(l, elem_to_find))"
      ],
      "metadata": {
        "colab": {
          "base_uri": "https://localhost:8080/"
        },
        "id": "ssPZxrahv2L1",
        "outputId": "2254f29b-d3b5-4f4a-be6b-3f9c8a7752f9"
      },
      "execution_count": 8,
      "outputs": [
        {
          "output_type": "stream",
          "name": "stdout",
          "text": [
            "True\n"
          ]
        }
      ]
    },
    {
      "cell_type": "code",
      "source": [
        ""
      ],
      "metadata": {
        "id": "USMKxV2VxQyQ"
      },
      "execution_count": null,
      "outputs": []
    }
  ]
}