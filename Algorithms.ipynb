{
  "nbformat": 4,
  "nbformat_minor": 0,
  "metadata": {
    "colab": {
      "name": "Algorithms.ipynb",
      "provenance": [],
      "collapsed_sections": [],
      "authorship_tag": "ABX9TyMf1+giNxgCpXi8UhRNfy20"
    },
    "kernelspec": {
      "name": "python3",
      "display_name": "Python 3"
    },
    "language_info": {
      "name": "python"
    }
  },
  "cells": [
    {
      "cell_type": "markdown",
      "source": [
        "## Week 1"
      ],
      "metadata": {
        "id": "pm_KITAVUD5k"
      }
    },
    {
      "cell_type": "markdown",
      "source": [
        "Q 1) Check number is Goldbach or not."
      ],
      "metadata": {
        "id": "nJDBU0s3Vf0c"
      }
    },
    {
      "cell_type": "code",
      "source": [
        "def check_prime(n):\n",
        "    (result, i) = (True, 2)\n",
        "    while(result and (i<n)):\n",
        "        if (n%i) == 0:\n",
        "            result = False\n",
        "        i += 1\n",
        "    return result\n",
        "\n",
        "def goldbach(n):\n",
        "    gold = {}\n",
        "    for i in range(2, int((n+1)/2)+1):\n",
        "        if(check_prime(i) and check_prime(n-i)):\n",
        "            gold[i] = n-i\n",
        "    return [(k, gold[k]) for k in gold.keys()]\n",
        "\n",
        "goldbach(16)"
      ],
      "metadata": {
        "id": "lxCwvWiwXkON"
      },
      "execution_count": null,
      "outputs": []
    },
    {
      "cell_type": "markdown",
      "source": [
        "Q 2) Find type of odd element"
      ],
      "metadata": {
        "id": "5jzLTbARY5tb"
      }
    },
    {
      "cell_type": "code",
      "source": [
        "def odd_one(L):\n",
        "    count = dict()\n",
        "    for i in L:\n",
        "        if type(i) in count:\n",
        "            count[type(i)] += 1\n",
        "        else:\n",
        "            count[type(i)] = 1\n",
        "    return [j for j in count.keys() if count[j] == 1][0]\n",
        "\n",
        "L = [1,2,3.4, 4, 5]\n",
        "odd_one(L)\n"
      ],
      "metadata": {
        "colab": {
          "base_uri": "https://localhost:8080/"
        },
        "id": "oBG1g57fY6ed",
        "outputId": "2dee856a-7db7-4795-e25b-15356d7e51bb"
      },
      "execution_count": null,
      "outputs": [
        {
          "output_type": "execute_result",
          "data": {
            "text/plain": [
              "float"
            ]
          },
          "metadata": {},
          "execution_count": 15
        }
      ]
    },
    {
      "cell_type": "markdown",
      "source": [
        "## Time Complexity\n",
        "\n",
        "1. Tower of hanoi :<br>\n",
        "![image.png](https://drive.google.com/uc?export=view&id=1uWnvGQ9O8kzTjxXKJg7xFw9JxlFWVV5l)\n"
      ],
      "metadata": {
        "id": "DOwYeRY7cyMf"
      }
    },
    {
      "cell_type": "markdown",
      "source": [
        "## Linear Search\n",
        "\n",
        "Time compexity : O(n)"
      ],
      "metadata": {
        "id": "fceV-eb1vWq2"
      }
    },
    {
      "cell_type": "code",
      "source": [
        "def LinearSearch(l, elem_to_find):\n",
        "    for i in l:\n",
        "        if(i == elem_to_find):\n",
        "            return True\n",
        "    return False\n",
        "l = [10, 20, 30, 40]\n",
        "elem_to_find = 90\n",
        "print(LinearSearch(l, elem_to_find))"
      ],
      "metadata": {
        "id": "Er3P9Hl1c05G",
        "colab": {
          "base_uri": "https://localhost:8080/"
        },
        "outputId": "f892aae2-a1a7-468e-c394-4036c53547d6"
      },
      "execution_count": null,
      "outputs": [
        {
          "output_type": "stream",
          "name": "stdout",
          "text": [
            "False\n"
          ]
        }
      ]
    },
    {
      "cell_type": "markdown",
      "source": [
        "## Binary search\n",
        "\n",
        "Time Complexity : $log_2(n)$<br>\n",
        "The input list must be sorted in ascending order.<br>\n",
        "![image.png](https://drive.google.com/uc?export=view&id=1IByFraEjDmNi3gtC9dgmEwcEfWuSiU7U)"
      ],
      "metadata": {
        "id": "t3rAQJFewRmJ"
      }
    },
    {
      "cell_type": "code",
      "source": [
        "def binary_search(l, elem_to_find):\n",
        "    if l == []: # if list is empty\n",
        "        return False\n",
        "\n",
        "    m = len(l)//2\n",
        "\n",
        "    if(elem_to_find == l[m]): # if element to find is middle element itself\n",
        "        return True\n",
        "    if(elem_to_find < l[m]): # if elem_to_find < mid\n",
        "        return binary_search(l[:m], elem_to_find)\n",
        "    else:# if elem_to_find > mid\n",
        "        return binary_search(l[m+1:], elem_to_find)\n",
        "    \n",
        "l = [10, 20, 30, 40]\n",
        "elem_to_find = 30\n",
        "print(binary_search(l, elem_to_find))"
      ],
      "metadata": {
        "colab": {
          "base_uri": "https://localhost:8080/"
        },
        "id": "ssPZxrahv2L1",
        "outputId": "15b62462-0c86-419b-c391-ec061886d54b"
      },
      "execution_count": null,
      "outputs": [
        {
          "output_type": "stream",
          "name": "stdout",
          "text": [
            "True\n"
          ]
        }
      ]
    },
    {
      "cell_type": "code",
      "source": [
        ""
      ],
      "metadata": {
        "id": "USMKxV2VxQyQ"
      },
      "execution_count": null,
      "outputs": []
    },
    {
      "cell_type": "markdown",
      "source": [
        "## Selection Sort\n",
        "Time Complexity:<br>\n",
        "For each $i^{th}$ element the inner loop runs for $(n-i)$ times i.e.\n",
        "\n",
        "\n",
        "\\begin{align}\n",
        "    &T(n) = n + (n-1) + ...... + 1\\\\[1em]\n",
        "    &T(n) = \\frac{n(n-1)}{2}\n",
        "\\end{align}\n",
        "\n",
        "\n",
        "So the assymptotic time complexity will be : $O(n^2)$<br>\n",
        "In fact every entry is $O(n^2)$."
      ],
      "metadata": {
        "id": "oZqM38gQ55F1"
      }
    },
    {
      "cell_type": "code",
      "source": [
        "def selection_sort(L):\n",
        "    if(len(L)<=1): # if list is empty or has single element\n",
        "        return L\n",
        "    for i in range(len(L)):\n",
        "        curr_small = i # index of current element\n",
        "        for j in range(i+1, len(L)):\n",
        "            if(L[j] < L[curr_small]): #if newly found element smaller than current update curr_small to j\n",
        "                curr_small = j\n",
        "        # Swap curr_small and elem at jth position\n",
        "        L[i], L[curr_small] = L[curr_small], L[i];\n",
        "    return L\n",
        "\n",
        "L = [34, 0, -1, 10, 67, 23, 83, -14]\n",
        "print(selection_sort(L)) "
      ],
      "metadata": {
        "colab": {
          "base_uri": "https://localhost:8080/"
        },
        "id": "i8WdLHKD57fu",
        "outputId": "71642666-5424-4a28-9e25-4233817df0b6"
      },
      "execution_count": null,
      "outputs": [
        {
          "output_type": "stream",
          "name": "stdout",
          "text": [
            "[-14, -1, 0, 10, 23, 34, 67, 83]\n"
          ]
        }
      ]
    },
    {
      "cell_type": "markdown",
      "source": [
        "## Insertion Sort\n",
        "\n",
        "Compare current element with every element prior to it and then swap if any element smaller than current is found.\n",
        "\n",
        "In python $l.sort()$ sorts the list in place i.e. makes changes to the original list itself cannot retrieve the original list.\n",
        "\n",
        "On the other hand $sorted(l)$ creates a new list and sorts the original list l. Retrieval of original list l is possible.\n",
        "\n",
        "Time complexity is same as selection sort : $O(n^2)$\n"
      ],
      "metadata": {
        "id": "OI893nizFuiI"
      }
    },
    {
      "cell_type": "code",
      "source": [
        "# Iterative version makes changes in the given list itself\n",
        "import time\n",
        "def Insertion_sort(L):\n",
        "    if(len(L)<1): # if no element or single element\n",
        "        return L\n",
        "    \n",
        "    for i in range(len(L)):\n",
        "        curr = i\n",
        "        while(curr > 0 and L[curr] < L[curr-1]):\n",
        "            (L[curr], L[curr-1]) = (L[curr-1], L[curr])\n",
        "            curr -= 1\n",
        "    return L\n",
        "\n",
        "start = time.time()\n",
        "L = [100, 39, -10, 0, 54, 18, 96, 12, -2, 46, 19, 34, 107, 49, 38]\n",
        "print('Sorted list')\n",
        "print(Insertion_sort(L))\n",
        "end = time.time()\n",
        "print(f'Time taken : {end-start}')"
      ],
      "metadata": {
        "colab": {
          "base_uri": "https://localhost:8080/"
        },
        "id": "hwaMDwGh819j",
        "outputId": "68a2370d-3188-4165-cb57-4f79514fb05a"
      },
      "execution_count": null,
      "outputs": [
        {
          "output_type": "stream",
          "name": "stdout",
          "text": [
            "Sorted list\n",
            "[-10, -2, 0, 12, 18, 19, 34, 38, 39, 46, 49, 54, 96, 100, 107]\n",
            "Time taken : 0.00177764892578125\n"
          ]
        }
      ]
    },
    {
      "cell_type": "markdown",
      "source": [
        "Time Complexity of recursion version : \n",
        "$O(n^2)$"
      ],
      "metadata": {
        "id": "GCgyWckEZ7tD"
      }
    },
    {
      "cell_type": "code",
      "source": [
        "# Recursive Version Does not change the current list and returns new sorted list\n",
        "import time\n",
        "def Insert(sorted_l, curr):\n",
        "    n = len(sorted_l)\n",
        "\n",
        "    if n == 0: # if empty]\n",
        "        return [curr]\n",
        "    if curr > sorted_l[-1]: # if current element is greater than last element of sorted list\n",
        "        return sorted_l + [curr]\n",
        "    else:\n",
        "        return Insert(sorted_l[:-1], curr) + sorted_l[-1:]\n",
        "\n",
        "def Insertion_sort_recurr(L):\n",
        "    n = len(L)\n",
        "    if n<1:\n",
        "        return L\n",
        "    L = Insert(Insertion_sort_recurr(L[:-1]), L[-1])\n",
        "    return L\n",
        "\n",
        "start = time.time()\n",
        "L = [100, 39, -10, 0, 54, 18, 96, 12, -2, 46, 19, 34, 107, 49, 38]\n",
        "print('Sorted list')\n",
        "print(Insertion_sort_recurr(L))\n",
        "end = time.time()\n",
        "print(f'Time taken : {end-start}')"
      ],
      "metadata": {
        "colab": {
          "base_uri": "https://localhost:8080/"
        },
        "id": "Ol98HVBfILjc",
        "outputId": "7e37748e-573e-484d-c008-b38732da7f0c"
      },
      "execution_count": null,
      "outputs": [
        {
          "output_type": "stream",
          "name": "stdout",
          "text": [
            "Sorted list\n",
            "[-10, -2, 0, 12, 18, 19, 34, 38, 39, 46, 49, 54, 96, 100, 107]\n",
            "Time taken : 0.00039958953857421875\n"
          ]
        }
      ]
    },
    {
      "cell_type": "markdown",
      "source": [
        "## Merge Sort\n",
        "Sort the two arrays separately and combine them. This can be done recuesively.\n",
        "\n",
        "Time Complexity is : $nlog(n)$<br>\n",
        "![image.png](https://drive.google.com/uc?export=view&id=1Y2ASuneKBUDfN8ebEM6wnsSr7ddpGWFf)"
      ],
      "metadata": {
        "id": "PWQttF9Dq3ep"
      }
    },
    {
      "cell_type": "code",
      "source": [
        "# Function to merge two sorted arays\n",
        "def merge(A, B):\n",
        "    (m, n) = (len(A), len(B))\n",
        "    C = [] # merge two sorted lists A, B into a new list C\n",
        "    (i, j, k) = (0, 0, 0)\n",
        "    while(k<m+n):\n",
        "        if(i == m): # if A empty\n",
        "            C.extend(B[j:]) # append entire sorted B to C\n",
        "            k += (n-j) # update k\n",
        "        elif(j==n): # if B empty\n",
        "            C.extend(A[i:])\n",
        "            k += (m-i)\n",
        "        elif(A[i]<B[j]):\n",
        "            C.append(A[i])\n",
        "            (i, k) = (i+1, k+1)\n",
        "        else:\n",
        "            C.append(B[j])\n",
        "            (j, k) = (j+1, k+1)\n",
        "    return C"
      ],
      "metadata": {
        "id": "vOK28r5caJSU"
      },
      "execution_count": 7,
      "outputs": []
    },
    {
      "cell_type": "code",
      "source": [
        "def mergeSort(A):\n",
        "    n = len(A)\n",
        "    \n",
        "    if(n<=1):\n",
        "        return A\n",
        "    \n",
        "    L = mergeSort(A[:n//2]) # sort left half\n",
        "    R = mergeSort(A[n//2:]) # sort right half\n",
        "\n",
        "    B = merge(L, R)\n",
        "\n",
        "    return B\n",
        "A = [12,-19,20,6,15,9,-6,-4,-17,-16,19,-8,-20,-15,1,-11,3,10,14,-3]\n",
        "\n",
        "print(mergeSort(A))\n"
      ],
      "metadata": {
        "colab": {
          "base_uri": "https://localhost:8080/"
        },
        "id": "864AEIugMWeB",
        "outputId": "bcb47de2-a769-4068-dedd-970a7c13f73b"
      },
      "execution_count": 8,
      "outputs": [
        {
          "output_type": "stream",
          "name": "stdout",
          "text": [
            "[-20, -19, -17, -16, -15, -11, -8, -6, -4, -3, 1, 3, 6, 9, 10, 12, 14, 15, 19, 20]\n"
          ]
        }
      ]
    },
    {
      "cell_type": "markdown",
      "source": [
        "## QuickSort\n",
        "**Overcomes shortcomings of Merge Sort.**<br>\n",
        "\n",
        "- Let median of `L` is `m`.\n",
        "- Move all values $\\le$ $m$ to left of `L`.\n",
        " - And remaining values to right of `L`.\n",
        "\n",
        "- We recursively sort left and right halves.\n",
        "    - `L` is sorted in this manner and no merging is required.\n",
        "- Recurrance : `T(n) = 2T(n/2) + n`\n",
        "    - Rearranging in a single pass, time `O(n)`.\n",
        "- Overall time complexity : `O(nlogn)`\n"
      ],
      "metadata": {
        "id": "zAZIGKhhZ32S"
      }
    },
    {
      "cell_type": "code",
      "source": [
        ""
      ],
      "metadata": {
        "id": "6yChkBTg06qS"
      },
      "execution_count": null,
      "outputs": []
    }
  ]
}