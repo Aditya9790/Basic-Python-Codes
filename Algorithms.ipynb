{
  "nbformat": 4,
  "nbformat_minor": 0,
  "metadata": {
    "colab": {
      "name": "Algorithms.ipynb",
      "provenance": [],
      "collapsed_sections": [],
      "authorship_tag": "ABX9TyPiu3JlPgr2xtC/YO+FQ7rA"
    },
    "kernelspec": {
      "name": "python3",
      "display_name": "Python 3"
    },
    "language_info": {
      "name": "python"
    }
  },
  "cells": [
    {
      "cell_type": "markdown",
      "source": [
        "## Week 1"
      ],
      "metadata": {
        "id": "pm_KITAVUD5k"
      }
    },
    {
      "cell_type": "markdown",
      "source": [
        "Q 1) Check number is Goldbach or not."
      ],
      "metadata": {
        "id": "nJDBU0s3Vf0c"
      }
    },
    {
      "cell_type": "code",
      "source": [
        "def check_prime(n):\n",
        "    (result, i) = (True, 2)\n",
        "    while(result and (i<n)):\n",
        "        if (n%i) == 0:\n",
        "            result = False\n",
        "        i += 1\n",
        "    return result\n",
        "\n",
        "def goldbach(n):\n",
        "    gold = {}\n",
        "    for i in range(2, int((n+1)/2)+1):\n",
        "        if(check_prime(i) and check_prime(n-i)):\n",
        "            gold[i] = n-i\n",
        "    return [(k, gold[k]) for k in gold.keys()]\n",
        "\n",
        "goldbach(16)"
      ],
      "metadata": {
        "id": "lxCwvWiwXkON"
      },
      "execution_count": null,
      "outputs": []
    },
    {
      "cell_type": "markdown",
      "source": [
        "Q 2) Find type of odd element"
      ],
      "metadata": {
        "id": "5jzLTbARY5tb"
      }
    },
    {
      "cell_type": "code",
      "source": [
        "def odd_one(L):\n",
        "    count = dict()\n",
        "    for i in L:\n",
        "        if type(i) in count:\n",
        "            count[type(i)] += 1\n",
        "        else:\n",
        "            count[type(i)] = 1\n",
        "    return [j for j in count.keys() if count[j] == 1][0]\n",
        "\n",
        "L = [1,2,3.4, 4, 5]\n",
        "odd_one(L)\n"
      ],
      "metadata": {
        "colab": {
          "base_uri": "https://localhost:8080/"
        },
        "id": "oBG1g57fY6ed",
        "outputId": "2dee856a-7db7-4795-e25b-15356d7e51bb"
      },
      "execution_count": null,
      "outputs": [
        {
          "output_type": "execute_result",
          "data": {
            "text/plain": [
              "float"
            ]
          },
          "metadata": {},
          "execution_count": 15
        }
      ]
    },
    {
      "cell_type": "markdown",
      "source": [
        "## Time Complexity"
      ],
      "metadata": {
        "id": "L1BiNVxlv72M"
      }
    },
    {
      "cell_type": "markdown",
      "source": [
        "\n",
        "1. Tower of hanoi :<br>\n",
        "![image.png](https://drive.google.com/uc?export=view&id=1uWnvGQ9O8kzTjxXKJg7xFw9JxlFWVV5l)\n"
      ],
      "metadata": {
        "id": "DOwYeRY7cyMf"
      }
    },
    {
      "cell_type": "markdown",
      "source": [
        "## Linear Search\n",
        "\n",
        "Time compexity : O(n)"
      ],
      "metadata": {
        "id": "fceV-eb1vWq2"
      }
    },
    {
      "cell_type": "code",
      "source": [
        "def LinearSearch(l, elem_to_find):\n",
        "    for i in l:\n",
        "        if(i == elem_to_find):\n",
        "            return True\n",
        "    return False\n",
        "l = [10, 20, 30, 40]\n",
        "elem_to_find = 90\n",
        "print(LinearSearch(l, elem_to_find))"
      ],
      "metadata": {
        "id": "Er3P9Hl1c05G",
        "colab": {
          "base_uri": "https://localhost:8080/"
        },
        "outputId": "f892aae2-a1a7-468e-c394-4036c53547d6"
      },
      "execution_count": null,
      "outputs": [
        {
          "output_type": "stream",
          "name": "stdout",
          "text": [
            "False\n"
          ]
        }
      ]
    },
    {
      "cell_type": "markdown",
      "source": [
        "## Binary search"
      ],
      "metadata": {
        "id": "ZQIftLkjwEBw"
      }
    },
    {
      "cell_type": "markdown",
      "source": [
        "\n",
        "Time Complexity : $log_2(n)$<br>\n",
        "The input list must be sorted in ascending order.<br>\n",
        "![image.png](https://drive.google.com/uc?export=view&id=1IByFraEjDmNi3gtC9dgmEwcEfWuSiU7U)"
      ],
      "metadata": {
        "id": "t3rAQJFewRmJ"
      }
    },
    {
      "cell_type": "code",
      "source": [
        "def binary_search(l, elem_to_find):\n",
        "    if l == []: # if list is empty\n",
        "        return False\n",
        "\n",
        "    m = len(l)//2\n",
        "\n",
        "    if(elem_to_find == l[m]): # if element to find is middle element itself\n",
        "        return True\n",
        "    if(elem_to_find < l[m]): # if elem_to_find < mid\n",
        "        return binary_search(l[:m], elem_to_find)\n",
        "    else:# if elem_to_find > mid\n",
        "        return binary_search(l[m+1:], elem_to_find)\n",
        "    \n",
        "l = [10, 20, 30, 40]\n",
        "elem_to_find = 30\n",
        "print(binary_search(l, elem_to_find))"
      ],
      "metadata": {
        "colab": {
          "base_uri": "https://localhost:8080/"
        },
        "id": "ssPZxrahv2L1",
        "outputId": "15b62462-0c86-419b-c391-ec061886d54b"
      },
      "execution_count": null,
      "outputs": [
        {
          "output_type": "stream",
          "name": "stdout",
          "text": [
            "True\n"
          ]
        }
      ]
    },
    {
      "cell_type": "code",
      "source": [
        ""
      ],
      "metadata": {
        "id": "USMKxV2VxQyQ"
      },
      "execution_count": null,
      "outputs": []
    },
    {
      "cell_type": "markdown",
      "source": [
        "## Selection Sort"
      ],
      "metadata": {
        "id": "Ltxb5GomwHcu"
      }
    },
    {
      "cell_type": "markdown",
      "source": [
        "\n",
        "Time Complexity:<br>\n",
        "For each $i^{th}$ element the inner loop runs for $(n-i)$ times i.e.\n",
        "\n",
        "\n",
        "\\begin{align}\n",
        "    &T(n) = n + (n-1) + ...... + 1\\\\[1em]\n",
        "    &T(n) = \\frac{n(n-1)}{2}\n",
        "\\end{align}\n",
        "\n",
        "\n",
        "So the assymptotic time complexity will be : $O(n^2)$<br>\n",
        "In fact every entry is $O(n^2)$."
      ],
      "metadata": {
        "id": "oZqM38gQ55F1"
      }
    },
    {
      "cell_type": "code",
      "source": [
        "def selection_sort(L):\n",
        "    if(len(L)<=1): # if list is empty or has single element\n",
        "        return L\n",
        "    for i in range(len(L)):\n",
        "        curr_small = i # index of current element\n",
        "        for j in range(i+1, len(L)):\n",
        "            if(L[j] < L[curr_small]): #if newly found element smaller than current update curr_small to j\n",
        "                curr_small = j\n",
        "        # Swap curr_small and elem at jth position\n",
        "        L[i], L[curr_small] = L[curr_small], L[i];\n",
        "    return L\n",
        "\n",
        "L = [34, 0, -1, 10, 67, 23, 83, -14]\n",
        "print(selection_sort(L)) "
      ],
      "metadata": {
        "colab": {
          "base_uri": "https://localhost:8080/"
        },
        "id": "i8WdLHKD57fu",
        "outputId": "71642666-5424-4a28-9e25-4233817df0b6"
      },
      "execution_count": null,
      "outputs": [
        {
          "output_type": "stream",
          "name": "stdout",
          "text": [
            "[-14, -1, 0, 10, 23, 34, 67, 83]\n"
          ]
        }
      ]
    },
    {
      "cell_type": "markdown",
      "source": [
        "## Insertion Sort"
      ],
      "metadata": {
        "id": "gU7V7Lp1wORD"
      }
    },
    {
      "cell_type": "markdown",
      "source": [
        "Compare current element with every element prior to it and then swap if any element smaller than current is found.\n",
        "\n",
        "In python $l.sort()$ sorts the list in place i.e. makes changes to the original list itself cannot retrieve the original list.\n",
        "\n",
        "On the other hand $sorted(l)$ creates a new list and sorts the original list l. Retrieval of original list l is possible.\n",
        "\n",
        "Time complexity is same as selection sort : $O(n^2)$\n"
      ],
      "metadata": {
        "id": "OI893nizFuiI"
      }
    },
    {
      "cell_type": "code",
      "source": [
        "# Iterative version makes changes in the given list itself\n",
        "import time\n",
        "def Insertion_sort(L):\n",
        "    if(len(L)<1): # if no element or single element\n",
        "        return L\n",
        "    \n",
        "    for i in range(len(L)):\n",
        "        curr = i\n",
        "        while(curr > 0 and L[curr] < L[curr-1]):\n",
        "            (L[curr], L[curr-1]) = (L[curr-1], L[curr])\n",
        "            curr -= 1\n",
        "    return L\n",
        "\n",
        "start = time.time()\n",
        "L = [100, 39, -10, 0, 54, 18, 96, 12, -2, 46, 19, 34, 107, 49, 38]\n",
        "print('Sorted list')\n",
        "print(Insertion_sort(L))\n",
        "end = time.time()\n",
        "print(f'Time taken : {end-start}')"
      ],
      "metadata": {
        "colab": {
          "base_uri": "https://localhost:8080/"
        },
        "id": "hwaMDwGh819j",
        "outputId": "68a2370d-3188-4165-cb57-4f79514fb05a"
      },
      "execution_count": null,
      "outputs": [
        {
          "output_type": "stream",
          "name": "stdout",
          "text": [
            "Sorted list\n",
            "[-10, -2, 0, 12, 18, 19, 34, 38, 39, 46, 49, 54, 96, 100, 107]\n",
            "Time taken : 0.00177764892578125\n"
          ]
        }
      ]
    },
    {
      "cell_type": "markdown",
      "source": [
        "Time Complexity of recursion version : \n",
        "$O(n^2)$"
      ],
      "metadata": {
        "id": "GCgyWckEZ7tD"
      }
    },
    {
      "cell_type": "code",
      "source": [
        "# Recursive Version Does not change the current list and returns new sorted list\n",
        "import time\n",
        "def Insert(sorted_l, curr):\n",
        "    n = len(sorted_l)\n",
        "\n",
        "    if n == 0: # if empty]\n",
        "        return [curr]\n",
        "    if curr > sorted_l[-1]: # if current element is greater than last element of sorted list\n",
        "        return sorted_l + [curr]\n",
        "    else:\n",
        "        return Insert(sorted_l[:-1], curr) + sorted_l[-1:]\n",
        "\n",
        "def Insertion_sort_recurr(L):\n",
        "    n = len(L)\n",
        "    if n<1:\n",
        "        return L\n",
        "    L = Insert(Insertion_sort_recurr(L[:-1]), L[-1])\n",
        "    return L\n",
        "\n",
        "start = time.time()\n",
        "L = [100, 39, -10, 0, 54, 18, 96, 12, -2, 46, 19, 34, 107, 49, 38]\n",
        "print('Sorted list')\n",
        "print(Insertion_sort_recurr(L))\n",
        "end = time.time()\n",
        "print(f'Time taken : {end-start}')"
      ],
      "metadata": {
        "colab": {
          "base_uri": "https://localhost:8080/"
        },
        "id": "Ol98HVBfILjc",
        "outputId": "7e37748e-573e-484d-c008-b38732da7f0c"
      },
      "execution_count": null,
      "outputs": [
        {
          "output_type": "stream",
          "name": "stdout",
          "text": [
            "Sorted list\n",
            "[-10, -2, 0, 12, 18, 19, 34, 38, 39, 46, 49, 54, 96, 100, 107]\n",
            "Time taken : 0.00039958953857421875\n"
          ]
        }
      ]
    },
    {
      "cell_type": "markdown",
      "source": [
        "## Merge Sort"
      ],
      "metadata": {
        "id": "n82Q_9GIwRzJ"
      }
    },
    {
      "cell_type": "markdown",
      "source": [
        "\n",
        "Sort the two arrays separately and combine them. This can be done recuesively.\n",
        "\n",
        "Time Complexity is : $nlog(n)$<br>\n",
        "![image.png](https://drive.google.com/uc?export=view&id=1Y2ASuneKBUDfN8ebEM6wnsSr7ddpGWFf)"
      ],
      "metadata": {
        "id": "PWQttF9Dq3ep"
      }
    },
    {
      "cell_type": "code",
      "source": [
        "# Function to merge two sorted arays\n",
        "def merge(A, B):\n",
        "    (m, n) = (len(A), len(B))\n",
        "    C = [] # merge two sorted lists A, B into a new list C\n",
        "    (i, j, k) = (0, 0, 0)\n",
        "    while(k<m+n):\n",
        "        if(i == m): # if A empty\n",
        "            C.extend(B[j:]) # append entire sorted B to C\n",
        "            k += (n-j) # update k\n",
        "        elif(j==n): # if B empty\n",
        "            C.extend(A[i:])\n",
        "            k += (m-i)\n",
        "        elif(A[i]<B[j]):\n",
        "            C.append(A[i])\n",
        "            (i, k) = (i+1, k+1)\n",
        "        else:\n",
        "            C.append(B[j])\n",
        "            (j, k) = (j+1, k+1)\n",
        "    return C"
      ],
      "metadata": {
        "id": "vOK28r5caJSU"
      },
      "execution_count": null,
      "outputs": []
    },
    {
      "cell_type": "code",
      "source": [
        "def mergeSort(A):\n",
        "    n = len(A)\n",
        "    \n",
        "    if(n<=1):\n",
        "        return A\n",
        "    \n",
        "    L = mergeSort(A[:n//2]) # sort left half\n",
        "    R = mergeSort(A[n//2:]) # sort right half\n",
        "\n",
        "    B = merge(L, R)\n",
        "\n",
        "    return B\n",
        "A = [12,-19,20,6,15,9,-6,-4,-17,-16,19,-8,-20,-15,1,-11,3,10,14,-3]\n",
        "\n",
        "print(mergeSort(A))\n"
      ],
      "metadata": {
        "colab": {
          "base_uri": "https://localhost:8080/"
        },
        "id": "864AEIugMWeB",
        "outputId": "bcb47de2-a769-4068-dedd-970a7c13f73b"
      },
      "execution_count": null,
      "outputs": [
        {
          "output_type": "stream",
          "name": "stdout",
          "text": [
            "[-20, -19, -17, -16, -15, -11, -8, -6, -4, -3, 1, 3, 6, 9, 10, 12, 14, 15, 19, 20]\n"
          ]
        }
      ]
    },
    {
      "cell_type": "markdown",
      "source": [
        "## QuickSort"
      ],
      "metadata": {
        "id": "IdtcFbL1wV5Q"
      }
    },
    {
      "cell_type": "markdown",
      "source": [
        "\n",
        "**Overcomes shortcomings of Merge Sort.**<br>\n",
        "\n",
        "- Let median of `L` is `m`.\n",
        "- Move all values $\\le$ $m$ to left of `L`.\n",
        " - And remaining values to right of `L`.\n",
        "\n",
        "- We recursively sort left and right halves.\n",
        "    - `L` is sorted in this manner and no merging is required.\n",
        "- Recurrance : `T(n) = 2T(n/2) + n`\n",
        "    - Rearranging in a single pass, time `O(n)`.\n",
        "- Overall time complexity : `O(nlogn)`\n"
      ],
      "metadata": {
        "id": "zAZIGKhhZ32S"
      }
    },
    {
      "cell_type": "code",
      "source": [
        "def quick_sort(L, l, r): # Sort L[l:r]\n",
        "    if (r-l<=1): # if list has 1 element or empty\n",
        "        return L\n",
        "    \n",
        "    (pivot, lower, upper) = (L[l], l+1, l+1)\n",
        "    for i in range(l+1, r):\n",
        "        if(L[i]>pivot): # increment upper\n",
        "            upper += 1\n",
        "        else: # swap L[i] with start of upper segment\n",
        "              # upper segment willl start from where lower os pointing at that momen\n",
        "            (L[i], L[lower]) = (L[lower], L[i])\n",
        "            # incremenr upper and lower\n",
        "            (lower, upper) = (lower+1, upper+1)\n",
        "    # move pivot between lower and upper\n",
        "    (pivot, L[lower-1]) = (L[lower-1], pivot)\n",
        "    lower -= 1\n",
        "    # recursive call\n",
        "    quick_sort(L, l, lower)\n",
        "    quick_sort(L, lower+1, upper)\n",
        "    return L"
      ],
      "metadata": {
        "id": "6yChkBTg06qS"
      },
      "execution_count": null,
      "outputs": []
    },
    {
      "cell_type": "code",
      "source": [
        "L = [12,-19,20,6,15,9,-6,-4,-17,-16,19,-8,-20]\n",
        "n = len(L)\n",
        "print('After sorting:')\n",
        "quick_sort(L, 0, n-1)"
      ],
      "metadata": {
        "colab": {
          "base_uri": "https://localhost:8080/"
        },
        "id": "vjRmVSu6h8pP",
        "outputId": "329a6ac2-9764-4388-dc74-8a4b180b6b1c"
      },
      "execution_count": null,
      "outputs": [
        {
          "output_type": "stream",
          "name": "stdout",
          "text": [
            "After sorting:\n"
          ]
        },
        {
          "output_type": "execute_result",
          "data": {
            "text/plain": [
              "[12, 12, 12, 12, 12, 12, 12, 12, 12, 20, 20, 20, -20]"
            ]
          },
          "metadata": {},
          "execution_count": 10
        }
      ]
    },
    {
      "cell_type": "markdown",
      "source": [
        "- Quick sort is a divide and conqure algorithm.\n",
        "\n",
        "- **Analysis**\n",
        "    - Partition takes `O(n)`.\n",
        "    - If the pivot is the median \n",
        "        - `T(n)` = `2T(n/2)` + `n`\n",
        "        - `T(n)` is `O(nlogn)`\n",
        "    - Worst case? Pivot is maximum or minimum\n",
        "        - Partitions are of size 0, n - 1\n",
        "        - `T(n)` = `T(n - 1)` + `n`\n",
        "        - `T(n)` = `n` + `(n - 1)` + ... + 1\n",
        "        - `T(n)` is `O(n^2)`\n",
        "- Already sorted array, worst case!\n",
        "\n",
        "---\n",
        "\n",
        "- Average case complexity is : `O(nlogn)`\n",
        "- We can also randomize the selection of pivot between $0$ to $n-1$, and still get average complexity of `O(nlogn)`\n",
        "- Very fast algorithm so often used in in-built sort functions like `l.sort()` ot `sorted()`."
      ],
      "metadata": {
        "id": "WbeFrSttjv8r"
      }
    },
    {
      "cell_type": "markdown",
      "source": [
        "## List Vs Array"
      ],
      "metadata": {
        "id": "p7DPelYiw23W"
      }
    },
    {
      "cell_type": "markdown",
      "source": [
        "- **List**\n",
        "    - Flixible Length\n",
        "    - Easy to modify\n",
        "    - Values are scattered in memory\n",
        "\n",
        "- **Array**\n",
        "    - Fixed Size\n",
        "    - Contiguous blocks of memory\n",
        "    - Supports random access\n",
        "\n",
        "- **Linked List**\n",
        "    - List can be thought as a linked list. Every block knows where the next block is connected.\n",
        "![image.png](https://drive.google.com/uc?export=view&id=1q2c6Z-fdxUMhrvC36Nq2OWKiADHoMNWO)\n",
        "    - Insertion and deletion is easy.\n",
        "    - Flexible in size\n",
        "    - To access a element takes time proportional to it's position i.e. `O(i)`.\n",
        "\n",
        "\n",
        "- **Array**\n",
        "    - Size is declared in advance\n",
        "    - *Random access* is easy and is constant time operation i.e. `O(1)`.\n",
        "    - But inserting and deletion is expensive.\n",
        "    ![image.png](https://drive.google.com/uc?export=view&id=1FEuvFMb8TAHfZPf9yfg3ZFBpalLWu_hq)"
      ],
      "metadata": {
        "id": "wxujvrGyw9zn"
      }
    },
    {
      "cell_type": "markdown",
      "source": [
        "### Linked List\n"
      ],
      "metadata": {
        "id": "14cvf-Vq1-kE"
      }
    },
    {
      "cell_type": "code",
      "source": [
        "class Node:\n",
        "    def __init__(self, v = None):\n",
        "        self.value = v\n",
        "        self.next = None\n",
        "        return\n",
        "\n",
        "class LinkedList:\n",
        "    def __init__(self):\n",
        "        self.head = None\n",
        "\n",
        "    def printList(self): # print the list\n",
        "        temp = self.head \n",
        "        while (temp): \n",
        "            print(temp.value, '-->', end='') \n",
        "            temp = temp.next\n",
        "        print(\"\")\n",
        "    \n",
        "    def isEmpty(self): # check list empty\n",
        "        if(self.head == None):\n",
        "            return True\n",
        "        else:\n",
        "            return False\n",
        "\n",
        "    # Append to a list recursively\n",
        "    # def append_recurr(self, v):\n",
        "    #     new_node = Node(v)\n",
        "\n",
        "    #     temp = self.head\n",
        "    #     if self.isEmpty():\n",
        "    #         self.head = new_node\n",
        "    #     elif not temp.next:\n",
        "    #         temp.next = new_node # create a node ans point curr to new node\n",
        "    #         return\n",
        "    #     else:\n",
        "    #         return temp.next.append_recurr(v)\n",
        "\n",
        "    # Append to list iteratively\n",
        "    def append(self, v):\n",
        "        new_node = Node(v)\n",
        "\n",
        "        if self.isEmpty():\n",
        "            self.head = new_node\n",
        "            return\n",
        "        \n",
        "        temp = self.head\n",
        "        while(temp.next != None):\n",
        "            temp = temp.next\n",
        "        temp.next = new_node\n",
        "\n",
        "    # Insert element at beginning\n",
        "    def insert(self, v):\n",
        "        new_node = Node(v)\n",
        "        if self.isEmpty():\n",
        "            self.head = new_node\n",
        "            return \n",
        "\n",
        "        new_node.next = self.head # self points to 0th element\n",
        "        self.head = new_node\n",
        "    \n",
        "    def delete(self, v):\n",
        "        if self.isEmpty():\n",
        "            return\n",
        "        \n",
        "        curr = self.head\n",
        "        # if value to be deleted is head itself\n",
        "        if(curr and curr.value == v):\n",
        "            self.head = curr.next\n",
        "            curr = None\n",
        "            return\n",
        "        \n",
        "        # Keep trach of previous and current node\n",
        "        prev = None\n",
        "        while curr and curr.value != v:\n",
        "            prev = curr\n",
        "            curr = curr.next\n",
        "        \n",
        "        if curr is None:\n",
        "            return\n",
        "        \n",
        "        prev.next = curr.next # point prev.next to curr.next\n",
        "        curr = None # and make curr point to none\n",
        "        \n",
        "\n",
        "\n",
        "llist = LinkedList()\n",
        "llist.append(10)\n",
        "llist.append(20)\n",
        "llist.append(30)\n",
        "llist.append(40)\n",
        "llist.insert(0)\n",
        "print(\"Before deleting :\")\n",
        "llist.printList()\n",
        "llist.delete(30)\n",
        "print(\"After deleting\")\n",
        "llist.printList()"
      ],
      "metadata": {
        "id": "RQwPkmCow8st",
        "colab": {
          "base_uri": "https://localhost:8080/"
        },
        "outputId": "eb73fece-339d-4351-8e1f-7665e9804660"
      },
      "execution_count": null,
      "outputs": [
        {
          "output_type": "stream",
          "name": "stdout",
          "text": [
            "Before deleting :\n",
            "0 -->10 -->20 -->30 -->40 -->\n",
            "After deleting\n",
            "0 -->10 -->20 -->40 -->\n"
          ]
        }
      ]
    },
    {
      "cell_type": "markdown",
      "source": [
        "- Python `list` are not implemented by linked lists.\n",
        "- They are implemented by `array`, a large contiguous block of memory is allocated.\n",
        "    - It assigns a fixed block during list creation.\n",
        "    - Doubles the size if list overflows the array"
      ],
      "metadata": {
        "id": "vasr90XH9m94"
      }
    },
    {
      "cell_type": "markdown",
      "source": [
        "### Reversing Linked List"
      ],
      "metadata": {
        "id": "ZgUek1M3KAdB"
      }
    },
    {
      "cell_type": "code",
      "source": [
        "class Node:\n",
        "    def __init__(self, v = None):\n",
        "        self.value = v\n",
        "        self.next = None\n",
        "        return\n",
        "    def isEmpty(self):\n",
        "        if self.value == None:\n",
        "            return True\n",
        "        return False\n",
        "    def reverse(self, root):\n",
        "        root = self\n",
        "        if root.next == None: # if empty list\n",
        "            return root\n",
        "        else:\n",
        "            prev = None\n",
        "            prev.next = None\n",
        "            while(root.next != None):\n",
        "                prev = root\n",
        "                root = root.next\n",
        "                root.next = prev\n",
        "        return root"
      ],
      "metadata": {
        "id": "OUxGKnu7rxGX"
      },
      "execution_count": null,
      "outputs": []
    },
    {
      "cell_type": "markdown",
      "source": [
        "## Dictionaries"
      ],
      "metadata": {
        "id": "dHt2UcGCaCxQ"
      }
    },
    {
      "cell_type": "markdown",
      "source": [
        "- Values are stored in a `key:value` pair.\n",
        "- Generally called hashing.\n",
        "- For accessing any value we need to know key associated with it.\n",
        "- Every key is mapped to a unique value.\n",
        "- If two keys have same value than it is called collision.\n",
        "- The keys for a dictionaries must be immutable like `tuple`, `string`, `int`, `boolean`.\n",
        "\n",
        "- **Hash function**\n",
        "  - $h$ : $S$ -> $X$ maps a set of values $S$ to a small range of integers $X$ = `{0,1,...,n-1}`\n",
        "  - Typically |$X$| << |$S$|, so there will be collisions, $h(s)$ = $h(s')$ , $s$ $\\neq$ $s'$\n",
        "  - A good hash function will minimize collisions\n",
        "  - **SHA-256** is an industry standard hashing function whose range is 256 bits\n",
        "    - Use to hash large files - avoid uploading to cloud storage"
      ],
      "metadata": {
        "id": "lG4vOw9FaIDm"
      }
    },
    {
      "cell_type": "markdown",
      "source": [
        "**Hash Table**\n",
        "- An array `A` of size `n` combined with a hash function $h$\n",
        "- $h$ maps keys to `{0,1,...,n-1}`\n",
        "- Ideally, when we create an entry for key `k`, `A[h(k)]` will be unused\n",
        "  - What if there is already a value at that location?\n",
        "- Dealing with collisions\n",
        "  - **Open addressing (closed hashing)**\n",
        "    - Probe or find for free space in the array.\n",
        "  - **Open hashing**\n",
        "    - Each slot in the array points to a list of values\n",
        "    - Insert into the list for the given slot\n",
        "- Dictionary keys in Python must be immutable\n",
        "  - If value changes, hash also changes!"
      ],
      "metadata": {
        "id": "w3ChZWXCf3vL"
      }
    },
    {
      "cell_type": "markdown",
      "source": [
        "## Doubly Linked List"
      ],
      "metadata": {
        "id": "GvjjXyzu9j4D"
      }
    },
    {
      "cell_type": "code",
      "source": [
        "class Node:\n",
        "    def __init__(self, data):\n",
        "        self.data = data # store data\n",
        "        self.next = None # reference of next node\n",
        "        self.prev = None # reference of previous node\n",
        "class doubly_linked_list:\n",
        "    def __init__(self):\n",
        "        self.head = None # reference of first node\n",
        "        self.last = None # reference to last node\n",
        "    \n",
        "    def insert_end(self, data):\n",
        "        new_node = Node(data)\n",
        "        new_node.prev = self.last\n",
        "        if(self.head == None): # if list is empty\n",
        "            self.head = new_node\n",
        "            self.last = new_node\n",
        "        else:\n",
        "            self.last.next = new_node\n",
        "            self.last = new_node\n",
        "\n",
        "    def delete_end(self):\n",
        "        if(self.head != None): # if not list empty\n",
        "            if(self.head == self.last): # only element in list\n",
        "                self.head = None\n",
        "                self.last = None\n",
        "            else:\n",
        "                self.last = self.last.prev\n",
        "                self.last.next = None\n"
      ],
      "metadata": {
        "id": "5ZU0Kga0aCdY"
      },
      "execution_count": null,
      "outputs": []
    },
    {
      "cell_type": "code",
      "source": [
        "def DishPrepareOrder(order_list):\n",
        "    order = {}\n",
        "    for i in order_list:\n",
        "        if i in order:\n",
        "            order[i] += 1\n",
        "        else:\n",
        "            order[i] = 1\n",
        "    \n",
        "    order = {k: v for k, v in sorted(order.items(), key=lambda item: item[1], reverse=True)}\n",
        "    return order\n",
        "\n",
        "order_list = [1006, 1008, 1009, 1008, 1007, 1005, 1008, 1001, 1003, 1009, 1006, 1003, 1004, 1002, 1008, 1005, 1004, 1007, 1006, 1002, 1002, 1001, 1004, 1001, 1003, 1007, 1007, 1005, 1004, 1002]\n",
        "order = DishPrepareOrder(order_list)\n",
        "print(order)"
      ],
      "metadata": {
        "colab": {
          "base_uri": "https://localhost:8080/"
        },
        "id": "YyfK1z4-_IA9",
        "outputId": "880ac03a-88f9-4e1f-d412-96332e35c3ea"
      },
      "execution_count": null,
      "outputs": [
        {
          "output_type": "stream",
          "name": "stdout",
          "text": [
            "{1008: 4, 1007: 4, 1004: 4, 1002: 4, 1006: 3, 1005: 3, 1001: 3, 1003: 3, 1009: 2}\n"
          ]
        }
      ]
    },
    {
      "cell_type": "code",
      "source": [
        "# order_set = sorted(set(order.values()), reverse=True)\n",
        "# order_set\n",
        "l = []\n",
        "for key in order.keys():\n",
        "    temp = order[key]"
      ],
      "metadata": {
        "colab": {
          "base_uri": "https://localhost:8080/"
        },
        "id": "b7UxnVOommSS",
        "outputId": "84bf206d-9e98-4858-d471-f387c38f268d"
      },
      "execution_count": null,
      "outputs": [
        {
          "output_type": "execute_result",
          "data": {
            "text/plain": [
              "[(1009, 2),\n",
              " (1008, 4),\n",
              " (1007, 4),\n",
              " (1006, 3),\n",
              " (1005, 3),\n",
              " (1004, 4),\n",
              " (1003, 3),\n",
              " (1002, 4),\n",
              " (1001, 3)]"
            ]
          },
          "metadata": {},
          "execution_count": 20
        }
      ]
    },
    {
      "cell_type": "markdown",
      "source": [
        "## Postfix Evaluation using stack"
      ],
      "metadata": {
        "id": "hkCG8y7AJpak"
      }
    },
    {
      "cell_type": "code",
      "source": [
        "def EvaluateExpression(exp):\n",
        "    l = []\n",
        "    exp = exp.split(\" \")\n",
        "    for i in exp:  \n",
        "        if i.isdigit():\n",
        "            l.append(i)\n",
        "        elif i in \"+-*/\":\n",
        "            B = int(l.pop())\n",
        "            A = int(l.pop())\n",
        "            if i == \"+\":\n",
        "                l.append(A+B)\n",
        "            elif i == \"-\":\n",
        "                l.append(A-B)\n",
        "            elif i == \"*\":\n",
        "                l.append(A*B)\n",
        "            elif i == \"/\":\n",
        "                l.append(A/B)\n",
        "    return l[-1]\n",
        "exp = \"3 7 + 12 2 - *\"\n",
        "print(EvaluateExpression(exp))"
      ],
      "metadata": {
        "colab": {
          "base_uri": "https://localhost:8080/"
        },
        "id": "BMPF03L11JeU",
        "outputId": "f3e8a3f5-6c20-4553-c08f-d8dc73102c66"
      },
      "execution_count": null,
      "outputs": [
        {
          "output_type": "stream",
          "name": "stdout",
          "text": [
            "100\n"
          ]
        }
      ]
    },
    {
      "cell_type": "code",
      "source": [
        "exp.split(\" \")"
      ],
      "metadata": {
        "colab": {
          "base_uri": "https://localhost:8080/"
        },
        "id": "JhB7VxDQzsLl",
        "outputId": "9b864a14-6cf6-454c-bd96-b1b3d705a9b2"
      },
      "execution_count": null,
      "outputs": [
        {
          "output_type": "execute_result",
          "data": {
            "text/plain": [
              "['3', '7', '+', '12', '2', '-', '*']"
            ]
          },
          "metadata": {},
          "execution_count": 11
        }
      ]
    },
    {
      "cell_type": "code",
      "source": [
        ""
      ],
      "metadata": {
        "id": "TaGva1-10QmU"
      },
      "execution_count": null,
      "outputs": []
    }
  ]
}